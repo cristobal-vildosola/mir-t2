{
 "cells": [
  {
   "cell_type": "markdown",
   "metadata": {},
   "source": [
    "## Cargar los datos"
   ]
  },
  {
   "cell_type": "code",
   "execution_count": 3,
   "metadata": {},
   "outputs": [
    {
     "name": "stdout",
     "output_type": "stream",
     "text": [
      "Q=(21573, 128) R=(33545, 128)\n",
      "Q=(2886, 128) R=(202088, 128)\n",
      "Q=(842, 4096) R=(10171, 4096)\n"
     ]
    }
   ],
   "source": [
    "from Data import load_dataset_pair\n",
    "\n",
    "(queryset, dataset) = load_dataset_pair(\"descriptores/MEL128\", 21573, 33545, 128)\n",
    "print(\"Q={} R={}\".format(queryset.shape, dataset.shape))\n",
    "\n",
    "(queryset, dataset) = load_dataset_pair(\"descriptores/SIFT\", 2886, 202088, 128)\n",
    "print(\"Q={} R={}\".format(queryset.shape, dataset.shape))\n",
    "\n",
    "(queryset, dataset) = load_dataset_pair(\"descriptores/VGG19\", 842, 10171, 4096)\n",
    "print(\"Q={} R={}\".format(queryset.shape, dataset.shape))\n"
   ]
  },
  {
   "cell_type": "markdown",
   "metadata": {},
   "source": [
    "## Prueba PyFLANN"
   ]
  },
  {
   "cell_type": "code",
   "execution_count": 4,
   "metadata": {},
   "outputs": [
    {
     "name": "stdout",
     "output_type": "stream",
     "text": [
      "construccion linear scan=0.0\n",
      "busqueda linear scan=15.8\n",
      "construccion kdtree=26.4\n",
      "busqueda aproximada kdtree=2.1\n",
      "efectividad=95.8%  correctas=807 incorrectas=35\n"
     ]
    }
   ],
   "source": [
    "import pyflann\n",
    "\n",
    "from Index import Linear, KDTree\n",
    "from Results import evaluar_resultado\n",
    "\n",
    "# crea un objeto flann\n",
    "flann = pyflann.FLANN()\n",
    "\n",
    "# construir el indice linear scan\n",
    "linear = Linear(dataset)\n",
    "print(\"construccion linear scan={:.1f}\".format(linear.build_time))\n",
    "\n",
    "# buscar el NN usando el ultimo indice construido (linear scan)\n",
    "lscan_dists, lscan_time = linear.search(queryset)\n",
    "print(\"busqueda linear scan={:.1f}\".format(lscan_time))\n",
    "\n",
    "# construir el indice kdtree\n",
    "kdtree = KDTree(dataset, trees=1)\n",
    "print(\"construccion kdtree={:.1f}\".format(kdtree.build_time))\n",
    "\n",
    "# buscar aproximada del NN con el ultimo indice construido (kdtree)\n",
    "kdtree_dists, kdtree_time = kdtree.search(queryset, checks=1000)\n",
    "print(\"busqueda aproximada kdtree={:.1f}\".format(kdtree_time))\n",
    "\n",
    "evaluar_resultado(kdtree_dists, lscan_dists)\n"
   ]
  },
  {
   "cell_type": "code",
   "execution_count": null,
   "metadata": {},
   "outputs": [],
   "source": []
  }
 ],
 "metadata": {
  "kernelspec": {
   "display_name": "Python 3",
   "language": "python",
   "name": "python3"
  },
  "language_info": {
   "codemirror_mode": {
    "name": "ipython",
    "version": 3
   },
   "file_extension": ".py",
   "mimetype": "text/x-python",
   "name": "python",
   "nbconvert_exporter": "python",
   "pygments_lexer": "ipython3",
   "version": "3.6.5"
  }
 },
 "nbformat": 4,
 "nbformat_minor": 2
}
