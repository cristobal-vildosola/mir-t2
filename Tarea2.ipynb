{
 "cells": [
  {
   "cell_type": "markdown",
   "metadata": {},
   "source": [
    "## Cargar los datos"
   ]
  },
  {
   "cell_type": "code",
   "execution_count": 2,
   "metadata": {},
   "outputs": [
    {
     "name": "stdout",
     "output_type": "stream",
     "text": [
      "Q=(21573, 128) R=(33545, 128)\n"
     ]
    },
    {
     "name": "stdout",
     "output_type": "stream",
     "text": [
      "Q=(2886, 128) R=(202088, 128)\n"
     ]
    },
    {
     "name": "stdout",
     "output_type": "stream",
     "text": [
      "Q=(842, 4096) R=(10171, 4096)\n"
     ]
    }
   ],
   "source": [
    "from Data import load_dataset_pair\n",
    "\n",
    "(dataset_q, dataset_r) = load_dataset_pair(\"descriptores/MEL128\", 21573, 33545, 128)\n",
    "print(\"Q={} R={}\".format(dataset_q.shape, dataset_r.shape))\n",
    "\n",
    "(dataset_q, dataset_r) = load_dataset_pair(\"descriptores/SIFT\", 2886, 202088, 128)\n",
    "print(\"Q={} R={}\".format(dataset_q.shape, dataset_r.shape))\n",
    "\n",
    "(dataset_q, dataset_r) = load_dataset_pair(\"descriptores/VGG19\", 842, 10171, 4096)\n",
    "print(\"Q={} R={}\".format(dataset_q.shape, dataset_r.shape))\n"
   ]
  },
  {
   "cell_type": "markdown",
   "metadata": {},
   "source": [
    "## Prueba PyFLANN"
   ]
  },
  {
   "cell_type": "code",
   "execution_count": 3,
   "metadata": {},
   "outputs": [
    {
     "name": "stdout",
     "output_type": "stream",
     "text": [
      "construccion linear scan=0.1\n"
     ]
    },
    {
     "name": "stdout",
     "output_type": "stream",
     "text": [
      "busqueda linear scan=15.4\n"
     ]
    },
    {
     "name": "stdout",
     "output_type": "stream",
     "text": [
      "construccion kdtree=25.0\nbusqueda aproximada kdtree=0.2\nefectividad=76.8%  correctas=647 incorrectas=195\n"
     ]
    }
   ],
   "source": [
    "import pyflann\n",
    "import time\n",
    "\n",
    "from Results import evaluar_resultado\n",
    "\n",
    "# crea un objeto flann\n",
    "flann = pyflann.FLANN()\n",
    "\n",
    "# construir el indice linear scan\n",
    "t0 = time.time()\n",
    "flann.build_index(dataset_r, algorithm=\"linear\")\n",
    "t1 = time.time()\n",
    "print(\"construccion linear scan={:.1f}\".format(t1 - t0))\n",
    "\n",
    "# buscar el NN usando el ultimo indice construido (linear scan)\n",
    "t0 = time.time()\n",
    "lscan_results, lscan_dists = flann.nn_index(dataset_q, num_neighbors=1, cores=1)\n",
    "t1 = time.time()\n",
    "print(\"busqueda linear scan={:.1f}\".format(t1 - t0))\n",
    "\n",
    "# construir el indice kdtree\n",
    "t0 = time.time()\n",
    "flann.build_index(dataset_r, algorithm=\"kdtree\", trees=1)\n",
    "t1 = time.time()\n",
    "print(\"construccion kdtree={:.1f}\".format(t1 - t0))\n",
    "\n",
    "# buscar aproximada del NN con el ultimo indice construido (kdtree)\n",
    "t0 = time.time()\n",
    "approx_results, approx_dists = flann.nn_index(dataset_q, num_neighbors=1, cores=1, checks=100)\n",
    "t1 = time.time()\n",
    "print(\"busqueda aproximada kdtree={:.1f}\".format(t1 - t0))\n",
    "\n",
    "evaluar_resultado(approx_dists, lscan_dists)\n"
   ]
  },
  {
   "cell_type": "code",
   "execution_count": null,
   "metadata": {},
   "outputs": [],
   "source": []
  }
 ],
 "metadata": {
  "kernelspec": {
   "display_name": "Python 3",
   "language": "python",
   "name": "python3"
  },
  "language_info": {
   "codemirror_mode": {
    "name": "ipython",
    "version": 3
   },
   "file_extension": ".py",
   "mimetype": "text/x-python",
   "name": "python",
   "nbconvert_exporter": "python",
   "pygments_lexer": "ipython3",
   "version": "3.6.5"
  }
 },
 "nbformat": 4,
 "nbformat_minor": 2
}
